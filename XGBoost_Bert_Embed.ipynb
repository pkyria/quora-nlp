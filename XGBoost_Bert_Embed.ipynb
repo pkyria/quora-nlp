{
 "cells": [
  {
   "cell_type": "code",
   "execution_count": null,
   "id": "25c73d95",
   "metadata": {},
   "outputs": [],
   "source": [
    "import pandas as pd\n",
    "import numpy as np\n",
    "\n",
    "df = pd.read_csv(\"quora.csv\")\n",
    "df.dropna(inplace=True)\n",
    "\n",
    "df = df.drop(['id', 'qid1', 'qid2'], axis=1)"
   ]
  },
  {
   "cell_type": "code",
   "execution_count": null,
   "id": "4cb7349a",
   "metadata": {},
   "outputs": [],
   "source": [
    "from sklearn.feature_extraction.text import CountVectorizer\n",
    "\n",
    "q_df = df.drop(['is_duplicate'], axis=1)\n",
    "\n",
    "questions = list(q_df['question1']) + list(q_df['question2'])\n",
    "\n",
    "cv = CountVectorizer(max_features=3000)\n",
    "\n",
    "transformed_ques = cv.fit_transform(questions).toarray()\n",
    "\n",
    "q1_transf = transformed_ques[:len(q_df['question1'])]\n",
    "q2_transf = transformed_ques[len(q_df['question2']):]\n",
    "\n",
    "q1_transf_df = pd.DataFrame(q1_transf, index= q_df.index)\n",
    "q2_transf_df = pd.DataFrame(q2_transf, index= q_df.index)\n",
    "\n",
    "q_transf_df = pd.concat([q1_transf_df, q2_transf_df], axis=1)\n",
    "\n",
    "q_transf_df.shape"
   ]
  }
 ],
 "metadata": {
  "kernelspec": {
   "display_name": "base",
   "language": "python",
   "name": "python3"
  },
  "language_info": {
   "name": "python",
   "version": "3.10.9"
  }
 },
 "nbformat": 4,
 "nbformat_minor": 5
}
